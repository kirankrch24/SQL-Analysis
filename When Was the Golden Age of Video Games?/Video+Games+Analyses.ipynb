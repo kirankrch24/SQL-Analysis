{
 "cells": [
  {
   "cell_type": "markdown",
   "id": "5f45eed4",
   "metadata": {
    "collapsed": true
   },
   "source": [
    "# Video Games Analysis \n",
    "\n",
    "## Understanding\n",
    "\n",
    "\n",
    "Video games are big business: the global gaming market is projected to be worth more than $300 billion by 2027 according to Mordor Intelligence. \n",
    "\n",
    "Video games getting better, or has the golden age of video games already passed?\n",
    "\n",
    "In this project, I'll explore the top 400 best-selling video games created between 1977 and 2020. \n",
    "\n",
    "I'll compare a dataset on game sales with critic and user reviews to determine whether or not video games have improved as the gaming market has grown."
   ]
  },
  {
   "cell_type": "markdown",
   "id": "b14de544",
   "metadata": {},
   "source": [
    "The first line of code connects us to the database where the all table is residing"
   ]
  },
  {
   "cell_type": "code",
   "execution_count": 1,
   "id": "fbdb8443",
   "metadata": {},
   "outputs": [
    {
     "data": {
      "text/plain": [
       "'Connected: @games'"
      ]
     },
     "execution_count": 1,
     "metadata": {},
     "output_type": "execute_result"
    }
   ],
   "source": [
    "%%sql\n",
    "postgresql:///games"
   ]
  },
  {
   "cell_type": "markdown",
   "id": "4eaed7c1",
   "metadata": {},
   "source": [
    "Looking at all tables we have, so it will good understanding of tables"
   ]
  },
  {
   "cell_type": "markdown",
   "id": "661182a6",
   "metadata": {},
   "source": [
    "game_sales Table"
   ]
  },
  {
   "cell_type": "code",
   "execution_count": 10,
   "id": "d170b1f8",
   "metadata": {},
   "outputs": [
    {
     "name": "stdout",
     "output_type": "stream",
     "text": [
      " * postgresql:///games\n",
      "10 rows affected.\n"
     ]
    },
    {
     "data": {
      "text/html": [
       "<table>\n",
       "    <thead>\n",
       "        <tr>\n",
       "            <th>game</th>\n",
       "            <th>platform</th>\n",
       "            <th>publisher</th>\n",
       "            <th>developer</th>\n",
       "            <th>games_sold</th>\n",
       "            <th>year</th>\n",
       "        </tr>\n",
       "    </thead>\n",
       "    <tbody>\n",
       "        <tr>\n",
       "            <td>Zelda II: The Adventure of Link for NES</td>\n",
       "            <td>NES</td>\n",
       "            <td>Nintendo</td>\n",
       "            <td>Nintendo EAD</td>\n",
       "            <td>4.38</td>\n",
       "            <td>1988</td>\n",
       "        </tr>\n",
       "        <tr>\n",
       "            <td>Yokai Watch 2: Bony Spirits / Fleshy Souls / Psychic Specters for 3DS</td>\n",
       "            <td>3DS</td>\n",
       "            <td>Nintendo</td>\n",
       "            <td>Level 5</td>\n",
       "            <td>7.29</td>\n",
       "            <td>2016</td>\n",
       "        </tr>\n",
       "        <tr>\n",
       "            <td>World Soccer Winning Eleven 9 for PS2</td>\n",
       "            <td>PS2</td>\n",
       "            <td>Konami</td>\n",
       "            <td>Konami Computer Entertainment Tokyo</td>\n",
       "            <td>4.06</td>\n",
       "            <td>2006</td>\n",
       "        </tr>\n",
       "        <tr>\n",
       "            <td>World of Warcraft: Wrath of the Lich King for PC</td>\n",
       "            <td>PC</td>\n",
       "            <td>Blizzard Entertainment</td>\n",
       "            <td>Blizzard Entertainment</td>\n",
       "            <td>4.00</td>\n",
       "            <td>2008</td>\n",
       "        </tr>\n",
       "        <tr>\n",
       "            <td>World of Warcraft for PC</td>\n",
       "            <td>PC</td>\n",
       "            <td>Blizzard Entertainment</td>\n",
       "            <td>Blizzard Entertainment</td>\n",
       "            <td>12.00</td>\n",
       "            <td>2004</td>\n",
       "        </tr>\n",
       "        <tr>\n",
       "            <td>World of Warcraft: Cataclysm for PC</td>\n",
       "            <td>PC</td>\n",
       "            <td>Blizzard Entertainment</td>\n",
       "            <td>Blizzard Entertainment</td>\n",
       "            <td>4.70</td>\n",
       "            <td>2010</td>\n",
       "        </tr>\n",
       "        <tr>\n",
       "            <td>Winning Eleven: Pro Evolution Soccer 2007 for PS2</td>\n",
       "            <td>PS2</td>\n",
       "            <td>Konami</td>\n",
       "            <td>Konami Computer Entertainment Tokyo</td>\n",
       "            <td>4.39</td>\n",
       "            <td>2007</td>\n",
       "        </tr>\n",
       "        <tr>\n",
       "            <td>Wii Sports Resort for Wii</td>\n",
       "            <td>Wii</td>\n",
       "            <td>Nintendo</td>\n",
       "            <td>Nintendo EAD</td>\n",
       "            <td>33.13</td>\n",
       "            <td>2009</td>\n",
       "        </tr>\n",
       "        <tr>\n",
       "            <td>Wii Sports for Wii</td>\n",
       "            <td>Wii</td>\n",
       "            <td>Nintendo</td>\n",
       "            <td>Nintendo EAD</td>\n",
       "            <td>82.90</td>\n",
       "            <td>2006</td>\n",
       "        </tr>\n",
       "        <tr>\n",
       "            <td>Wii Play for Wii</td>\n",
       "            <td>Wii</td>\n",
       "            <td>Nintendo</td>\n",
       "            <td>Nintendo EAD</td>\n",
       "            <td>28.02</td>\n",
       "            <td>2007</td>\n",
       "        </tr>\n",
       "    </tbody>\n",
       "</table>"
      ],
      "text/plain": [
       "[('Zelda II: The Adventure of Link for NES', 'NES', 'Nintendo', 'Nintendo EAD', Decimal('4.38'), 1988),\n",
       " ('Yokai Watch 2: Bony Spirits / Fleshy Souls / Psychic Specters for 3DS', '3DS', 'Nintendo', 'Level 5', Decimal('7.29'), 2016),\n",
       " ('World Soccer Winning Eleven 9 for PS2', 'PS2', 'Konami', 'Konami Computer Entertainment Tokyo', Decimal('4.06'), 2006),\n",
       " ('World of Warcraft: Wrath of the Lich King for PC', 'PC', 'Blizzard Entertainment', 'Blizzard Entertainment', Decimal('4.00'), 2008),\n",
       " ('World of Warcraft for PC', 'PC', 'Blizzard Entertainment', 'Blizzard Entertainment', Decimal('12.00'), 2004),\n",
       " ('World of Warcraft: Cataclysm for PC', 'PC', 'Blizzard Entertainment', 'Blizzard Entertainment', Decimal('4.70'), 2010),\n",
       " ('Winning Eleven: Pro Evolution Soccer 2007 for PS2', 'PS2', 'Konami', 'Konami Computer Entertainment Tokyo', Decimal('4.39'), 2007),\n",
       " ('Wii Sports Resort for Wii', 'Wii', 'Nintendo', 'Nintendo EAD', Decimal('33.13'), 2009),\n",
       " ('Wii Sports for Wii', 'Wii', 'Nintendo', 'Nintendo EAD', Decimal('82.90'), 2006),\n",
       " ('Wii Play for Wii', 'Wii', 'Nintendo', 'Nintendo EAD', Decimal('28.02'), 2007)]"
      ]
     },
     "execution_count": 10,
     "metadata": {},
     "output_type": "execute_result"
    }
   ],
   "source": [
    "%%sql\n",
    "select *\n",
    "from game_sales\n",
    "order by game desc\n",
    "limit 10;"
   ]
  },
  {
   "cell_type": "markdown",
   "id": "bf4b46b3",
   "metadata": {},
   "source": [
    "reviews Table"
   ]
  },
  {
   "cell_type": "code",
   "execution_count": 8,
   "id": "2e02b701",
   "metadata": {},
   "outputs": [
    {
     "name": "stdout",
     "output_type": "stream",
     "text": [
      " * postgresql:///games\n",
      "10 rows affected.\n"
     ]
    },
    {
     "data": {
      "text/html": [
       "<table>\n",
       "    <thead>\n",
       "        <tr>\n",
       "            <th>game</th>\n",
       "            <th>critic_score</th>\n",
       "            <th>user_score</th>\n",
       "        </tr>\n",
       "    </thead>\n",
       "    <tbody>\n",
       "        <tr>\n",
       "            <td>World Soccer Winning Eleven 9 for PS2</td>\n",
       "            <td>8.90</td>\n",
       "            <td>None</td>\n",
       "        </tr>\n",
       "        <tr>\n",
       "            <td>World Soccer Winning Eleven 8 International for PS2</td>\n",
       "            <td>9.30</td>\n",
       "            <td>None</td>\n",
       "        </tr>\n",
       "        <tr>\n",
       "            <td>World of Warcraft: Wrath of the Lich King for PC</td>\n",
       "            <td>9.30</td>\n",
       "            <td>9.30</td>\n",
       "        </tr>\n",
       "        <tr>\n",
       "            <td>World of Warcraft for PC</td>\n",
       "            <td>9.20</td>\n",
       "            <td>8.00</td>\n",
       "        </tr>\n",
       "        <tr>\n",
       "            <td>World of Warcraft: Cataclysm for PC</td>\n",
       "            <td>9.00</td>\n",
       "            <td>None</td>\n",
       "        </tr>\n",
       "        <tr>\n",
       "            <td>Winning Eleven: Pro Evolution Soccer 2007 for PS2</td>\n",
       "            <td>8.80</td>\n",
       "            <td>None</td>\n",
       "        </tr>\n",
       "        <tr>\n",
       "            <td>Wii Sports Resort for Wii</td>\n",
       "            <td>8.00</td>\n",
       "            <td>8.80</td>\n",
       "        </tr>\n",
       "        <tr>\n",
       "            <td>Wii Sports for Wii</td>\n",
       "            <td>7.70</td>\n",
       "            <td>8.00</td>\n",
       "        </tr>\n",
       "        <tr>\n",
       "            <td>Wii Play for Wii</td>\n",
       "            <td>5.90</td>\n",
       "            <td>6.50</td>\n",
       "        </tr>\n",
       "        <tr>\n",
       "            <td>Wii Party for Wii</td>\n",
       "            <td>7.00</td>\n",
       "            <td>None</td>\n",
       "        </tr>\n",
       "    </tbody>\n",
       "</table>"
      ],
      "text/plain": [
       "[('World Soccer Winning Eleven 9 for PS2', Decimal('8.90'), None),\n",
       " ('World Soccer Winning Eleven 8 International for PS2', Decimal('9.30'), None),\n",
       " ('World of Warcraft: Wrath of the Lich King for PC', Decimal('9.30'), Decimal('9.30')),\n",
       " ('World of Warcraft for PC', Decimal('9.20'), Decimal('8.00')),\n",
       " ('World of Warcraft: Cataclysm for PC', Decimal('9.00'), None),\n",
       " ('Winning Eleven: Pro Evolution Soccer 2007 for PS2', Decimal('8.80'), None),\n",
       " ('Wii Sports Resort for Wii', Decimal('8.00'), Decimal('8.80')),\n",
       " ('Wii Sports for Wii', Decimal('7.70'), Decimal('8.00')),\n",
       " ('Wii Play for Wii', Decimal('5.90'), Decimal('6.50')),\n",
       " ('Wii Party for Wii', Decimal('7.00'), None)]"
      ]
     },
     "execution_count": 8,
     "metadata": {},
     "output_type": "execute_result"
    }
   ],
   "source": [
    "%%sql\n",
    "select *\n",
    "from reviews\n",
    "order by game desc\n",
    "limit 10;"
   ]
  },
  {
   "cell_type": "markdown",
   "id": "fed84d9f",
   "metadata": {},
   "source": [
    "top_critic_years Table"
   ]
  },
  {
   "cell_type": "code",
   "execution_count": 16,
   "id": "8051d37b",
   "metadata": {},
   "outputs": [
    {
     "name": "stdout",
     "output_type": "stream",
     "text": [
      " * postgresql:///games\n",
      "10 rows affected.\n"
     ]
    },
    {
     "data": {
      "text/html": [
       "<table>\n",
       "    <thead>\n",
       "        <tr>\n",
       "            <th>year</th>\n",
       "            <th>avg_critic_score</th>\n",
       "        </tr>\n",
       "    </thead>\n",
       "    <tbody>\n",
       "        <tr>\n",
       "            <td>1990</td>\n",
       "            <td>9.80</td>\n",
       "        </tr>\n",
       "        <tr>\n",
       "            <td>1992</td>\n",
       "            <td>9.67</td>\n",
       "        </tr>\n",
       "        <tr>\n",
       "            <td>1998</td>\n",
       "            <td>9.32</td>\n",
       "        </tr>\n",
       "        <tr>\n",
       "            <td>2020</td>\n",
       "            <td>9.20</td>\n",
       "        </tr>\n",
       "        <tr>\n",
       "            <td>1993</td>\n",
       "            <td>9.10</td>\n",
       "        </tr>\n",
       "        <tr>\n",
       "            <td>1995</td>\n",
       "            <td>9.07</td>\n",
       "        </tr>\n",
       "        <tr>\n",
       "            <td>2004</td>\n",
       "            <td>9.03</td>\n",
       "        </tr>\n",
       "        <tr>\n",
       "            <td>1982</td>\n",
       "            <td>9.00</td>\n",
       "        </tr>\n",
       "        <tr>\n",
       "            <td>2002</td>\n",
       "            <td>8.99</td>\n",
       "        </tr>\n",
       "        <tr>\n",
       "            <td>1999</td>\n",
       "            <td>8.93</td>\n",
       "        </tr>\n",
       "    </tbody>\n",
       "</table>"
      ],
      "text/plain": [
       "[(1990, Decimal('9.80')),\n",
       " (1992, Decimal('9.67')),\n",
       " (1998, Decimal('9.32')),\n",
       " (2020, Decimal('9.20')),\n",
       " (1993, Decimal('9.10')),\n",
       " (1995, Decimal('9.07')),\n",
       " (2004, Decimal('9.03')),\n",
       " (1982, Decimal('9.00')),\n",
       " (2002, Decimal('8.99')),\n",
       " (1999, Decimal('8.93'))]"
      ]
     },
     "execution_count": 16,
     "metadata": {},
     "output_type": "execute_result"
    }
   ],
   "source": [
    "%%sql\n",
    "select *\n",
    "from top_critic_years;"
   ]
  },
  {
   "cell_type": "markdown",
   "id": "99fb9eb0",
   "metadata": {},
   "source": [
    "top_critic_years_more_than_four_games Table"
   ]
  },
  {
   "cell_type": "code",
   "execution_count": 18,
   "id": "f64b4841",
   "metadata": {},
   "outputs": [
    {
     "name": "stdout",
     "output_type": "stream",
     "text": [
      " * postgresql:///games\n",
      "10 rows affected.\n"
     ]
    },
    {
     "data": {
      "text/html": [
       "<table>\n",
       "    <thead>\n",
       "        <tr>\n",
       "            <th>year</th>\n",
       "            <th>num_games</th>\n",
       "            <th>avg_critic_score</th>\n",
       "        </tr>\n",
       "    </thead>\n",
       "    <tbody>\n",
       "        <tr>\n",
       "            <td>1998</td>\n",
       "            <td>10</td>\n",
       "            <td>9.32</td>\n",
       "        </tr>\n",
       "        <tr>\n",
       "            <td>2004</td>\n",
       "            <td>11</td>\n",
       "            <td>9.03</td>\n",
       "        </tr>\n",
       "        <tr>\n",
       "            <td>2002</td>\n",
       "            <td>9</td>\n",
       "            <td>8.99</td>\n",
       "        </tr>\n",
       "        <tr>\n",
       "            <td>1999</td>\n",
       "            <td>11</td>\n",
       "            <td>8.93</td>\n",
       "        </tr>\n",
       "        <tr>\n",
       "            <td>2001</td>\n",
       "            <td>13</td>\n",
       "            <td>8.82</td>\n",
       "        </tr>\n",
       "        <tr>\n",
       "            <td>2011</td>\n",
       "            <td>26</td>\n",
       "            <td>8.76</td>\n",
       "        </tr>\n",
       "        <tr>\n",
       "            <td>2016</td>\n",
       "            <td>13</td>\n",
       "            <td>8.67</td>\n",
       "        </tr>\n",
       "        <tr>\n",
       "            <td>2013</td>\n",
       "            <td>18</td>\n",
       "            <td>8.66</td>\n",
       "        </tr>\n",
       "        <tr>\n",
       "            <td>2008</td>\n",
       "            <td>20</td>\n",
       "            <td>8.63</td>\n",
       "        </tr>\n",
       "        <tr>\n",
       "            <td>2017</td>\n",
       "            <td>13</td>\n",
       "            <td>8.62</td>\n",
       "        </tr>\n",
       "    </tbody>\n",
       "</table>"
      ],
      "text/plain": [
       "[(1998, 10, Decimal('9.32')),\n",
       " (2004, 11, Decimal('9.03')),\n",
       " (2002, 9, Decimal('8.99')),\n",
       " (1999, 11, Decimal('8.93')),\n",
       " (2001, 13, Decimal('8.82')),\n",
       " (2011, 26, Decimal('8.76')),\n",
       " (2016, 13, Decimal('8.67')),\n",
       " (2013, 18, Decimal('8.66')),\n",
       " (2008, 20, Decimal('8.63')),\n",
       " (2017, 13, Decimal('8.62'))]"
      ]
     },
     "execution_count": 18,
     "metadata": {},
     "output_type": "execute_result"
    }
   ],
   "source": [
    "%%sql\n",
    "\n",
    "select *\n",
    "from top_critic_years_more_than_four_games;"
   ]
  },
  {
   "cell_type": "markdown",
   "id": "a185cef4",
   "metadata": {},
   "source": [
    "top_user_years_more_than_four_games Table"
   ]
  },
  {
   "cell_type": "code",
   "execution_count": 22,
   "id": "303933a5",
   "metadata": {},
   "outputs": [
    {
     "name": "stdout",
     "output_type": "stream",
     "text": [
      " * postgresql:///games\n",
      "10 rows affected.\n"
     ]
    },
    {
     "data": {
      "text/html": [
       "<table>\n",
       "    <thead>\n",
       "        <tr>\n",
       "            <th>year</th>\n",
       "            <th>num_games</th>\n",
       "            <th>avg_user_score</th>\n",
       "        </tr>\n",
       "    </thead>\n",
       "    <tbody>\n",
       "        <tr>\n",
       "            <td>1997</td>\n",
       "            <td>8</td>\n",
       "            <td>9.50</td>\n",
       "        </tr>\n",
       "        <tr>\n",
       "            <td>1998</td>\n",
       "            <td>10</td>\n",
       "            <td>9.40</td>\n",
       "        </tr>\n",
       "        <tr>\n",
       "            <td>2010</td>\n",
       "            <td>23</td>\n",
       "            <td>9.24</td>\n",
       "        </tr>\n",
       "        <tr>\n",
       "            <td>2009</td>\n",
       "            <td>20</td>\n",
       "            <td>9.18</td>\n",
       "        </tr>\n",
       "        <tr>\n",
       "            <td>2008</td>\n",
       "            <td>20</td>\n",
       "            <td>9.03</td>\n",
       "        </tr>\n",
       "        <tr>\n",
       "            <td>1996</td>\n",
       "            <td>5</td>\n",
       "            <td>9.00</td>\n",
       "        </tr>\n",
       "        <tr>\n",
       "            <td>2005</td>\n",
       "            <td>13</td>\n",
       "            <td>8.95</td>\n",
       "        </tr>\n",
       "        <tr>\n",
       "            <td>2006</td>\n",
       "            <td>16</td>\n",
       "            <td>8.95</td>\n",
       "        </tr>\n",
       "        <tr>\n",
       "            <td>2000</td>\n",
       "            <td>8</td>\n",
       "            <td>8.80</td>\n",
       "        </tr>\n",
       "        <tr>\n",
       "            <td>2002</td>\n",
       "            <td>9</td>\n",
       "            <td>8.80</td>\n",
       "        </tr>\n",
       "    </tbody>\n",
       "</table>"
      ],
      "text/plain": [
       "[(1997, 8, Decimal('9.50')),\n",
       " (1998, 10, Decimal('9.40')),\n",
       " (2010, 23, Decimal('9.24')),\n",
       " (2009, 20, Decimal('9.18')),\n",
       " (2008, 20, Decimal('9.03')),\n",
       " (1996, 5, Decimal('9.00')),\n",
       " (2005, 13, Decimal('8.95')),\n",
       " (2006, 16, Decimal('8.95')),\n",
       " (2000, 8, Decimal('8.80')),\n",
       " (2002, 9, Decimal('8.80'))]"
      ]
     },
     "execution_count": 22,
     "metadata": {},
     "output_type": "execute_result"
    }
   ],
   "source": [
    "%%sql \n",
    "\n",
    "select *\n",
    "from top_user_years_more_than_four_games;"
   ]
  },
  {
   "cell_type": "markdown",
   "id": "88a98c22",
   "metadata": {},
   "source": [
    "## 1. The ten best-selling video games"
   ]
  },
  {
   "cell_type": "code",
   "execution_count": 11,
   "id": "9002578d",
   "metadata": {},
   "outputs": [
    {
     "name": "stdout",
     "output_type": "stream",
     "text": [
      " * postgresql:///games\n",
      "10 rows affected.\n"
     ]
    },
    {
     "data": {
      "text/html": [
       "<table>\n",
       "    <thead>\n",
       "        <tr>\n",
       "            <th>game</th>\n",
       "            <th>platform</th>\n",
       "            <th>publisher</th>\n",
       "            <th>developer</th>\n",
       "            <th>games_sold</th>\n",
       "            <th>year</th>\n",
       "        </tr>\n",
       "    </thead>\n",
       "    <tbody>\n",
       "        <tr>\n",
       "            <td>Wii Sports for Wii</td>\n",
       "            <td>Wii</td>\n",
       "            <td>Nintendo</td>\n",
       "            <td>Nintendo EAD</td>\n",
       "            <td>82.90</td>\n",
       "            <td>2006</td>\n",
       "        </tr>\n",
       "        <tr>\n",
       "            <td>Super Mario Bros. for NES</td>\n",
       "            <td>NES</td>\n",
       "            <td>Nintendo</td>\n",
       "            <td>Nintendo EAD</td>\n",
       "            <td>40.24</td>\n",
       "            <td>1985</td>\n",
       "        </tr>\n",
       "        <tr>\n",
       "            <td>Counter-Strike: Global Offensive for PC</td>\n",
       "            <td>PC</td>\n",
       "            <td>Valve</td>\n",
       "            <td>Valve Corporation</td>\n",
       "            <td>40.00</td>\n",
       "            <td>2012</td>\n",
       "        </tr>\n",
       "        <tr>\n",
       "            <td>Mario Kart Wii for Wii</td>\n",
       "            <td>Wii</td>\n",
       "            <td>Nintendo</td>\n",
       "            <td>Nintendo EAD</td>\n",
       "            <td>37.32</td>\n",
       "            <td>2008</td>\n",
       "        </tr>\n",
       "        <tr>\n",
       "            <td>PLAYERUNKNOWN&#x27;S BATTLEGROUNDS for PC</td>\n",
       "            <td>PC</td>\n",
       "            <td>PUBG Corporation</td>\n",
       "            <td>PUBG Corporation</td>\n",
       "            <td>36.60</td>\n",
       "            <td>2017</td>\n",
       "        </tr>\n",
       "        <tr>\n",
       "            <td>Minecraft for PC</td>\n",
       "            <td>PC</td>\n",
       "            <td>Mojang</td>\n",
       "            <td>Mojang AB</td>\n",
       "            <td>33.15</td>\n",
       "            <td>2010</td>\n",
       "        </tr>\n",
       "        <tr>\n",
       "            <td>Wii Sports Resort for Wii</td>\n",
       "            <td>Wii</td>\n",
       "            <td>Nintendo</td>\n",
       "            <td>Nintendo EAD</td>\n",
       "            <td>33.13</td>\n",
       "            <td>2009</td>\n",
       "        </tr>\n",
       "        <tr>\n",
       "            <td>Pokemon Red / Green / Blue Version for GB</td>\n",
       "            <td>GB</td>\n",
       "            <td>Nintendo</td>\n",
       "            <td>Game Freak</td>\n",
       "            <td>31.38</td>\n",
       "            <td>1998</td>\n",
       "        </tr>\n",
       "        <tr>\n",
       "            <td>New Super Mario Bros. for DS</td>\n",
       "            <td>DS</td>\n",
       "            <td>Nintendo</td>\n",
       "            <td>Nintendo EAD</td>\n",
       "            <td>30.80</td>\n",
       "            <td>2006</td>\n",
       "        </tr>\n",
       "        <tr>\n",
       "            <td>New Super Mario Bros. Wii for Wii</td>\n",
       "            <td>Wii</td>\n",
       "            <td>Nintendo</td>\n",
       "            <td>Nintendo EAD</td>\n",
       "            <td>30.30</td>\n",
       "            <td>2009</td>\n",
       "        </tr>\n",
       "    </tbody>\n",
       "</table>"
      ],
      "text/plain": [
       "[('Wii Sports for Wii', 'Wii', 'Nintendo', 'Nintendo EAD', Decimal('82.90'), 2006),\n",
       " ('Super Mario Bros. for NES', 'NES', 'Nintendo', 'Nintendo EAD', Decimal('40.24'), 1985),\n",
       " ('Counter-Strike: Global Offensive for PC', 'PC', 'Valve', 'Valve Corporation', Decimal('40.00'), 2012),\n",
       " ('Mario Kart Wii for Wii', 'Wii', 'Nintendo', 'Nintendo EAD', Decimal('37.32'), 2008),\n",
       " (\"PLAYERUNKNOWN'S BATTLEGROUNDS for PC\", 'PC', 'PUBG Corporation', 'PUBG Corporation', Decimal('36.60'), 2017),\n",
       " ('Minecraft for PC', 'PC', 'Mojang', 'Mojang AB', Decimal('33.15'), 2010),\n",
       " ('Wii Sports Resort for Wii', 'Wii', 'Nintendo', 'Nintendo EAD', Decimal('33.13'), 2009),\n",
       " ('Pokemon Red / Green / Blue Version for GB', 'GB', 'Nintendo', 'Game Freak', Decimal('31.38'), 1998),\n",
       " ('New Super Mario Bros. for DS', 'DS', 'Nintendo', 'Nintendo EAD', Decimal('30.80'), 2006),\n",
       " ('New Super Mario Bros. Wii for Wii', 'Wii', 'Nintendo', 'Nintendo EAD', Decimal('30.30'), 2009)]"
      ]
     },
     "execution_count": 11,
     "metadata": {},
     "output_type": "execute_result"
    }
   ],
   "source": [
    "%%sql\n",
    "select *\n",
    "from game_sales\n",
    "order by games_sold desc\n",
    "limit 10;"
   ]
  },
  {
   "cell_type": "markdown",
   "id": "d80aa952",
   "metadata": {},
   "source": [
    "the best-selling video games were released between 1985 to 2017! \n",
    "That's quite a range; \n",
    "\n",
    "we'll have to use data from the reviews table to gain more insight on the best years for video games.\n",
    "\n",
    "## 2. Missing review scores\n",
    "\n",
    "\n",
    "First, it's important to explore the limitations of our database.\n",
    "\n",
    "One big shortcoming is that there is not any reviews data for some of the games on the game_sales table."
   ]
  },
  {
   "cell_type": "code",
   "execution_count": 12,
   "id": "3d6de133",
   "metadata": {},
   "outputs": [
    {
     "name": "stdout",
     "output_type": "stream",
     "text": [
      " * postgresql:///games\n",
      "1 rows affected.\n"
     ]
    },
    {
     "data": {
      "text/html": [
       "<table>\n",
       "    <thead>\n",
       "        <tr>\n",
       "            <th>count</th>\n",
       "        </tr>\n",
       "    </thead>\n",
       "    <tbody>\n",
       "        <tr>\n",
       "            <td>31</td>\n",
       "        </tr>\n",
       "    </tbody>\n",
       "</table>"
      ],
      "text/plain": [
       "[(31,)]"
      ]
     },
     "execution_count": 12,
     "metadata": {},
     "output_type": "execute_result"
    }
   ],
   "source": [
    "%%sql \n",
    "\n",
    "-- Join games_sales and reviews\n",
    "-- Select a count of the number of games where both critic_score and user_score are null\n",
    "\n",
    "select count(*) \n",
    "from game_sales\n",
    "left join reviews\n",
    "using(game)\n",
    "where critic_score is null and user_score is null;"
   ]
  },
  {
   "cell_type": "markdown",
   "id": "95cf9869",
   "metadata": {},
   "source": [
    "It looks like a little less than ten percent of the games on the game_sales table don't have any reviews data. \n",
    "\n",
    "That's a small enough percentage that we can continue our exploration, \n",
    "\n",
    "but the missing reviews data is a good thing to keep in mind as we move on to evaluating results from more sophisticated queries.\n",
    "\n",
    "## 3. Years that video game critics loved\n",
    "\n",
    "There are lots of ways to measure the best years for video games! \n",
    "\n",
    "Let's start with what the critics think."
   ]
  },
  {
   "cell_type": "code",
   "execution_count": 14,
   "id": "23f7de55",
   "metadata": {},
   "outputs": [
    {
     "name": "stdout",
     "output_type": "stream",
     "text": [
      " * postgresql:///games\n",
      "10 rows affected.\n"
     ]
    },
    {
     "data": {
      "text/html": [
       "<table>\n",
       "    <thead>\n",
       "        <tr>\n",
       "            <th>year</th>\n",
       "            <th>avg_critic_score</th>\n",
       "        </tr>\n",
       "    </thead>\n",
       "    <tbody>\n",
       "        <tr>\n",
       "            <td>1990</td>\n",
       "            <td>9.80</td>\n",
       "        </tr>\n",
       "        <tr>\n",
       "            <td>1992</td>\n",
       "            <td>9.67</td>\n",
       "        </tr>\n",
       "        <tr>\n",
       "            <td>1998</td>\n",
       "            <td>9.32</td>\n",
       "        </tr>\n",
       "        <tr>\n",
       "            <td>2020</td>\n",
       "            <td>9.20</td>\n",
       "        </tr>\n",
       "        <tr>\n",
       "            <td>1993</td>\n",
       "            <td>9.10</td>\n",
       "        </tr>\n",
       "        <tr>\n",
       "            <td>1995</td>\n",
       "            <td>9.07</td>\n",
       "        </tr>\n",
       "        <tr>\n",
       "            <td>2004</td>\n",
       "            <td>9.03</td>\n",
       "        </tr>\n",
       "        <tr>\n",
       "            <td>1982</td>\n",
       "            <td>9.00</td>\n",
       "        </tr>\n",
       "        <tr>\n",
       "            <td>2002</td>\n",
       "            <td>8.99</td>\n",
       "        </tr>\n",
       "        <tr>\n",
       "            <td>1999</td>\n",
       "            <td>8.93</td>\n",
       "        </tr>\n",
       "    </tbody>\n",
       "</table>"
      ],
      "text/plain": [
       "[(1990, Decimal('9.80')),\n",
       " (1992, Decimal('9.67')),\n",
       " (1998, Decimal('9.32')),\n",
       " (2020, Decimal('9.20')),\n",
       " (1993, Decimal('9.10')),\n",
       " (1995, Decimal('9.07')),\n",
       " (2004, Decimal('9.03')),\n",
       " (1982, Decimal('9.00')),\n",
       " (2002, Decimal('8.99')),\n",
       " (1999, Decimal('8.93'))]"
      ]
     },
     "execution_count": 14,
     "metadata": {},
     "output_type": "execute_result"
    }
   ],
   "source": [
    "%%sql\n",
    "\n",
    "select year, round(avg(critic_score),2) as avg_critic_score\n",
    "from game_sales \n",
    "inner join reviews \n",
    "using(game)\n",
    "group by year\n",
    "order by avg_critic_score desc\n",
    "limit 10;"
   ]
  },
  {
   "cell_type": "markdown",
   "id": "1592365f",
   "metadata": {},
   "source": [
    "\n",
    "The range of great years according to critic reviews goes from 1982 until 2020: \n",
    "\n",
    "we are no closer to finding the golden age of video games!\n",
    "\n",
    "Some of those avg_critic_score values look like suspiciously round numbers for averages. \n",
    "\n",
    "The value for 1982 looks especially fishy. \n",
    "\n",
    "Maybe there weren't a lot of video games in our dataset that were released in certain years.\n",
    "\n",
    "Let's update our query and find out whether 1982 really was such a great year for video games.\n",
    "\n",
    "## 4. Was 1982 really that great?"
   ]
  },
  {
   "cell_type": "code",
   "execution_count": 15,
   "id": "1cedb3c5",
   "metadata": {},
   "outputs": [
    {
     "name": "stdout",
     "output_type": "stream",
     "text": [
      " * postgresql:///games\n",
      "10 rows affected.\n"
     ]
    },
    {
     "data": {
      "text/html": [
       "<table>\n",
       "    <thead>\n",
       "        <tr>\n",
       "            <th>year</th>\n",
       "            <th>num_games</th>\n",
       "            <th>avg_critic_score</th>\n",
       "        </tr>\n",
       "    </thead>\n",
       "    <tbody>\n",
       "        <tr>\n",
       "            <td>1998</td>\n",
       "            <td>10</td>\n",
       "            <td>9.32</td>\n",
       "        </tr>\n",
       "        <tr>\n",
       "            <td>2004</td>\n",
       "            <td>11</td>\n",
       "            <td>9.03</td>\n",
       "        </tr>\n",
       "        <tr>\n",
       "            <td>2002</td>\n",
       "            <td>9</td>\n",
       "            <td>8.99</td>\n",
       "        </tr>\n",
       "        <tr>\n",
       "            <td>1999</td>\n",
       "            <td>11</td>\n",
       "            <td>8.93</td>\n",
       "        </tr>\n",
       "        <tr>\n",
       "            <td>2001</td>\n",
       "            <td>13</td>\n",
       "            <td>8.82</td>\n",
       "        </tr>\n",
       "        <tr>\n",
       "            <td>2011</td>\n",
       "            <td>26</td>\n",
       "            <td>8.76</td>\n",
       "        </tr>\n",
       "        <tr>\n",
       "            <td>2016</td>\n",
       "            <td>13</td>\n",
       "            <td>8.67</td>\n",
       "        </tr>\n",
       "        <tr>\n",
       "            <td>2013</td>\n",
       "            <td>18</td>\n",
       "            <td>8.66</td>\n",
       "        </tr>\n",
       "        <tr>\n",
       "            <td>2008</td>\n",
       "            <td>20</td>\n",
       "            <td>8.63</td>\n",
       "        </tr>\n",
       "        <tr>\n",
       "            <td>2012</td>\n",
       "            <td>12</td>\n",
       "            <td>8.62</td>\n",
       "        </tr>\n",
       "    </tbody>\n",
       "</table>"
      ],
      "text/plain": [
       "[(1998, 10, Decimal('9.32')),\n",
       " (2004, 11, Decimal('9.03')),\n",
       " (2002, 9, Decimal('8.99')),\n",
       " (1999, 11, Decimal('8.93')),\n",
       " (2001, 13, Decimal('8.82')),\n",
       " (2011, 26, Decimal('8.76')),\n",
       " (2016, 13, Decimal('8.67')),\n",
       " (2013, 18, Decimal('8.66')),\n",
       " (2008, 20, Decimal('8.63')),\n",
       " (2012, 12, Decimal('8.62'))]"
      ]
     },
     "execution_count": 15,
     "metadata": {},
     "output_type": "execute_result"
    }
   ],
   "source": [
    "%%sql \n",
    "\n",
    "select g.year,count(g.game) as num_games, round(avg(r.critic_score),2) as avg_critic_score\n",
    "from game_sales as g\n",
    "inner join reviews as r\n",
    "using(game)\n",
    "group by year\n",
    "having count(g.game) > 4\n",
    "order by avg_critic_score desc\n",
    "limit 10;\n"
   ]
  },
  {
   "cell_type": "markdown",
   "id": "ee541064",
   "metadata": {},
   "source": [
    "That looks better! \n",
    "\n",
    "The num_games column convinces us that our new list of the critics' top games reflects years that had quite a few well-reviewed games rather than just one or two hits. \n",
    "\n",
    "But which years dropped off the list due to having four or fewer reviewed games? \n",
    "\n",
    "Let's identify them so that someday we can track down more game reviews for those years and determine whether they might rightfully be considered as excellent years for video game releases!\n",
    "\n",
    "we've tables with the results of our previous two queries.\n",
    "\n",
    "## 5. Years that dropped off the critics' favorites list"
   ]
  },
  {
   "cell_type": "code",
   "execution_count": 19,
   "id": "c2b0919f",
   "metadata": {},
   "outputs": [
    {
     "name": "stdout",
     "output_type": "stream",
     "text": [
      " * postgresql:///games\n",
      "6 rows affected.\n"
     ]
    },
    {
     "data": {
      "text/html": [
       "<table>\n",
       "    <thead>\n",
       "        <tr>\n",
       "            <th>year</th>\n",
       "            <th>avg_critic_score</th>\n",
       "        </tr>\n",
       "    </thead>\n",
       "    <tbody>\n",
       "        <tr>\n",
       "            <td>1990</td>\n",
       "            <td>9.80</td>\n",
       "        </tr>\n",
       "        <tr>\n",
       "            <td>1992</td>\n",
       "            <td>9.67</td>\n",
       "        </tr>\n",
       "        <tr>\n",
       "            <td>2020</td>\n",
       "            <td>9.20</td>\n",
       "        </tr>\n",
       "        <tr>\n",
       "            <td>1993</td>\n",
       "            <td>9.10</td>\n",
       "        </tr>\n",
       "        <tr>\n",
       "            <td>1995</td>\n",
       "            <td>9.07</td>\n",
       "        </tr>\n",
       "        <tr>\n",
       "            <td>1982</td>\n",
       "            <td>9.00</td>\n",
       "        </tr>\n",
       "    </tbody>\n",
       "</table>"
      ],
      "text/plain": [
       "[(1990, Decimal('9.80')),\n",
       " (1992, Decimal('9.67')),\n",
       " (2020, Decimal('9.20')),\n",
       " (1993, Decimal('9.10')),\n",
       " (1995, Decimal('9.07')),\n",
       " (1982, Decimal('9.00'))]"
      ]
     },
     "execution_count": 19,
     "metadata": {},
     "output_type": "execute_result"
    }
   ],
   "source": [
    "%%sql \n",
    "\n",
    "select year, avg_critic_score from top_critic_years\n",
    "\n",
    "except\n",
    "\n",
    "select year, avg_critic_score from top_critic_years_more_than_four_games\n",
    "\n",
    "order by avg_critic_score desc;"
   ]
  },
  {
   "cell_type": "markdown",
   "id": "bb052e4b",
   "metadata": {},
   "source": [
    "The EXCEPT operator returns all the rows from the first query that are not present in the second query."
   ]
  },
  {
   "cell_type": "markdown",
   "id": "e4eb019e",
   "metadata": {},
   "source": [
    "Based on our work in the task above, it looks like the early 1990s might merit consideration as the golden age of video games based on critic_score alone, but we'd need to gather more games and reviews data to do further analysis.\n",
    "\n",
    "\n",
    "## 6. Years video game players loved \n",
    "\n",
    "Let's move on to looking at the opinions of another important group of people: players! To begin, let's create a query , except this one will look at user_score averages by year rather than critic_score averages."
   ]
  },
  {
   "cell_type": "code",
   "execution_count": 20,
   "id": "77433a91",
   "metadata": {},
   "outputs": [
    {
     "name": "stdout",
     "output_type": "stream",
     "text": [
      " * postgresql:///games\n",
      "10 rows affected.\n"
     ]
    },
    {
     "data": {
      "text/html": [
       "<table>\n",
       "    <thead>\n",
       "        <tr>\n",
       "            <th>year</th>\n",
       "            <th>num_games</th>\n",
       "            <th>avg_user_score</th>\n",
       "        </tr>\n",
       "    </thead>\n",
       "    <tbody>\n",
       "        <tr>\n",
       "            <td>1997</td>\n",
       "            <td>8</td>\n",
       "            <td>9.50</td>\n",
       "        </tr>\n",
       "        <tr>\n",
       "            <td>1998</td>\n",
       "            <td>10</td>\n",
       "            <td>9.40</td>\n",
       "        </tr>\n",
       "        <tr>\n",
       "            <td>2010</td>\n",
       "            <td>23</td>\n",
       "            <td>9.24</td>\n",
       "        </tr>\n",
       "        <tr>\n",
       "            <td>2009</td>\n",
       "            <td>20</td>\n",
       "            <td>9.18</td>\n",
       "        </tr>\n",
       "        <tr>\n",
       "            <td>2008</td>\n",
       "            <td>20</td>\n",
       "            <td>9.03</td>\n",
       "        </tr>\n",
       "        <tr>\n",
       "            <td>1996</td>\n",
       "            <td>5</td>\n",
       "            <td>9.00</td>\n",
       "        </tr>\n",
       "        <tr>\n",
       "            <td>2005</td>\n",
       "            <td>13</td>\n",
       "            <td>8.95</td>\n",
       "        </tr>\n",
       "        <tr>\n",
       "            <td>2006</td>\n",
       "            <td>16</td>\n",
       "            <td>8.95</td>\n",
       "        </tr>\n",
       "        <tr>\n",
       "            <td>2000</td>\n",
       "            <td>8</td>\n",
       "            <td>8.80</td>\n",
       "        </tr>\n",
       "        <tr>\n",
       "            <td>1999</td>\n",
       "            <td>11</td>\n",
       "            <td>8.80</td>\n",
       "        </tr>\n",
       "    </tbody>\n",
       "</table>"
      ],
      "text/plain": [
       "[(1997, 8, Decimal('9.50')),\n",
       " (1998, 10, Decimal('9.40')),\n",
       " (2010, 23, Decimal('9.24')),\n",
       " (2009, 20, Decimal('9.18')),\n",
       " (2008, 20, Decimal('9.03')),\n",
       " (1996, 5, Decimal('9.00')),\n",
       " (2005, 13, Decimal('8.95')),\n",
       " (2006, 16, Decimal('8.95')),\n",
       " (2000, 8, Decimal('8.80')),\n",
       " (1999, 11, Decimal('8.80'))]"
      ]
     },
     "execution_count": 20,
     "metadata": {},
     "output_type": "execute_result"
    }
   ],
   "source": [
    "%%sql \n",
    "\n",
    "\n",
    "select g.year,count(g.game) as num_games, round(avg(r.user_score),2) as avg_user_score\n",
    "from game_sales as g\n",
    "inner join reviews as r\n",
    "using(game)\n",
    "group by year\n",
    "having count(g.game) > 4\n",
    "order by avg_user_score desc\n",
    "limit 10;"
   ]
  },
  {
   "cell_type": "markdown",
   "id": "860cf31c",
   "metadata": {},
   "source": [
    "Alright, we've got a list of the top ten years according to both critic reviews and user reviews. \n",
    "\n",
    "Are there any years that showed up on both tables? If so, those years would certainly be excellent ones!\n",
    "\n",
    "## 7. Years that both players and critics loved\n"
   ]
  },
  {
   "cell_type": "code",
   "execution_count": 23,
   "id": "82ab78d8",
   "metadata": {},
   "outputs": [
    {
     "name": "stdout",
     "output_type": "stream",
     "text": [
      " * postgresql:///games\n",
      "3 rows affected.\n"
     ]
    },
    {
     "data": {
      "text/html": [
       "<table>\n",
       "    <thead>\n",
       "        <tr>\n",
       "            <th>year</th>\n",
       "        </tr>\n",
       "    </thead>\n",
       "    <tbody>\n",
       "        <tr>\n",
       "            <td>1998</td>\n",
       "        </tr>\n",
       "        <tr>\n",
       "            <td>2008</td>\n",
       "        </tr>\n",
       "        <tr>\n",
       "            <td>2002</td>\n",
       "        </tr>\n",
       "    </tbody>\n",
       "</table>"
      ],
      "text/plain": [
       "[(1998,), (2008,), (2002,)]"
      ]
     },
     "execution_count": 23,
     "metadata": {},
     "output_type": "execute_result"
    }
   ],
   "source": [
    "%%sql \n",
    "\n",
    "select year from top_critic_years_more_than_four_games\n",
    "\n",
    "intersect \n",
    "\n",
    "select year from top_user_years_more_than_four_games;"
   ]
  },
  {
   "cell_type": "markdown",
   "id": "502123ff",
   "metadata": {},
   "source": [
    "we've got three years that both users and critics agreed were in the top ten! \n",
    "\n",
    "There are many other ways of measuring what the best years for video games are, but let's stick with these years for now. \n",
    "\n",
    "We know that critics and players liked these years, but what about video game makers? \n",
    "\n",
    "Were sales good? Let's find out.\n",
    "\n",
    "This time, we haven't the results from the previous task in a table. \n",
    "\n",
    "Instead, we'll use the query from the previous task as a subquery in this one! \n",
    "This is a great skill to have, as we don't always have write permissions on the database we are querying."
   ]
  },
  {
   "cell_type": "code",
   "execution_count": 24,
   "id": "01ed93da",
   "metadata": {},
   "outputs": [
    {
     "name": "stdout",
     "output_type": "stream",
     "text": [
      " * postgresql:///games\n",
      "3 rows affected.\n"
     ]
    },
    {
     "data": {
      "text/html": [
       "<table>\n",
       "    <thead>\n",
       "        <tr>\n",
       "            <th>year</th>\n",
       "            <th>total_games_sold</th>\n",
       "        </tr>\n",
       "    </thead>\n",
       "    <tbody>\n",
       "        <tr>\n",
       "            <td>2008</td>\n",
       "            <td>175.07</td>\n",
       "        </tr>\n",
       "        <tr>\n",
       "            <td>1998</td>\n",
       "            <td>101.52</td>\n",
       "        </tr>\n",
       "        <tr>\n",
       "            <td>2002</td>\n",
       "            <td>58.67</td>\n",
       "        </tr>\n",
       "    </tbody>\n",
       "</table>"
      ],
      "text/plain": [
       "[(2008, Decimal('175.07')),\n",
       " (1998, Decimal('101.52')),\n",
       " (2002, Decimal('58.67'))]"
      ]
     },
     "execution_count": 24,
     "metadata": {},
     "output_type": "execute_result"
    }
   ],
   "source": [
    "%%sql \n",
    "\n",
    "\n",
    "select year, sum(games_sold) as total_games_sold\n",
    "\n",
    "from game_sales\n",
    "\n",
    "group by year\n",
    "\n",
    "having year in (select year \n",
    "               from top_critic_years_more_than_four_games\n",
    "               intersect \n",
    "               select year from top_user_years_more_than_four_games)\n",
    "\n",
    "order by total_games_sold desc\n",
    ";\n"
   ]
  },
  {
   "cell_type": "markdown",
   "id": "77078bdd",
   "metadata": {},
   "source": [
    "## The End"
   ]
  },
  {
   "cell_type": "code",
   "execution_count": null,
   "id": "55af25bd",
   "metadata": {
    "collapsed": true
   },
   "outputs": [],
   "source": []
  }
 ],
 "metadata": {
  "kernelspec": {
   "display_name": "Python 3",
   "language": "python",
   "name": "python3"
  },
  "language_info": {
   "codemirror_mode": {
    "name": "ipython",
    "version": 3
   },
   "file_extension": ".py",
   "mimetype": "text/x-python",
   "name": "python",
   "nbconvert_exporter": "python",
   "pygments_lexer": "ipython3",
   "version": "3.6.7"
  }
 },
 "nbformat": 4,
 "nbformat_minor": 5
}
